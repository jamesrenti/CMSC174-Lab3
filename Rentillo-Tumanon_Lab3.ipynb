{
 "cells": [
  {
   "cell_type": "code",
   "execution_count": null,
   "id": "e0f77c3e",
   "metadata": {},
   "outputs": [],
   "source": [
    "import cv2\n",
    "import numpy as np\n",
    "import matplotlib as plt\n",
    "import glob"
   ]
  },
  {
   "cell_type": "code",
   "execution_count": null,
   "id": "81b86086",
   "metadata": {},
   "outputs": [],
   "source": [
    "path_count100 = glob.glob(\"C:/Users/Client/Desktop/lab03/IMAGES/*.jpg\")\n",
    "path_count200 = glob.glob(\"C:/Users/Client/Desktop/lab03/IMAGES/*.jpg\")\n",
    "path_count300 = glob.glob(\"C:/Users/Client/Desktop/lab03/IMAGES/*.jpg\")\n",
    "path_count400 = glob.glob(\"C:/Users/Client/Desktop/lab03/IMAGES/*.jpg\")"
   ]
  }
 ],
 "metadata": {
  "kernelspec": {
   "display_name": "Python 3 (ipykernel)",
   "language": "python",
   "name": "python3"
  },
  "language_info": {
   "codemirror_mode": {
    "name": "ipython",
    "version": 3
   },
   "file_extension": ".py",
   "mimetype": "text/x-python",
   "name": "python",
   "nbconvert_exporter": "python",
   "pygments_lexer": "ipython3",
   "version": "3.9.12"
  }
 },
 "nbformat": 4,
 "nbformat_minor": 5
}
